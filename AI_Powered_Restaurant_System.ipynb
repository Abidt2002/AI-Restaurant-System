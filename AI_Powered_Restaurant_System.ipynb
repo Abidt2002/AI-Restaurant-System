{
  "cells": [
    {
      "cell_type": "markdown",
      "metadata": {
        "id": "view-in-github",
        "colab_type": "text"
      },
      "source": [
        "<a href=\"https://colab.research.google.com/github/Abidt2002/AI-Restaurant-System/blob/main/AI_Powered_Restaurant_System.ipynb\" target=\"_parent\"><img src=\"https://colab.research.google.com/assets/colab-badge.svg\" alt=\"Open In Colab\"/></a>"
      ]
    },
    {
      "cell_type": "code",
      "source": [
        "# Install necessary packages\n",
        "!pip install nbformat nbconvert nbstripout --quiet\n",
        "\n",
        "import nbformat\n",
        "from nbconvert.preprocessors import ClearOutputPreprocessor\n",
        "\n",
        "# Path to your AI Powered Resturant System\n",
        "notebook_path = '/content/drive/MyDrive/Colab Notebooks/AI Powered Restaurant System.ipynb'\n",
        "\n",
        "# Load the notebook\n",
        "with open(notebook_path, 'r', encoding='utf-8') as f:\n",
        "    nb = nbformat.read(f, as_version=4)\n",
        "\n",
        "# Clear outputs\n",
        "clear_output = ClearOutputPreprocessor()\n",
        "nb, _ = clear_output.preprocess(nb, {})\n",
        "\n",
        "# Remove widgets metadata if exists\n",
        "if 'widgets' in nb['metadata']:\n",
        "    del nb['metadata']['widgets']\n",
        "\n",
        "# Save cleaned notebook\n",
        "with open(notebook_path, 'w', encoding='utf-8') as f:\n",
        "    nbformat.write(nb, f)\n",
        "\n",
        "print(f\"✅ Notebook '{notebook_path}' is now GitHub-safe!\")\n"
      ],
      "metadata": {
        "colab": {
          "base_uri": "https://localhost:8080/"
        },
        "id": "eybhrUq_s70H",
        "outputId": "1290cb96-bf5f-4b18-c931-df7ac4baaa4d"
      },
      "execution_count": 1,
      "outputs": [
        {
          "output_type": "stream",
          "name": "stdout",
          "text": [
            "✅ Notebook '/content/drive/MyDrive/Colab Notebooks/AI Powered Restaurant System.ipynb' is now GitHub-safe!\n"
          ]
        }
      ]
    },
    {
      "cell_type": "code",
      "execution_count": 2,
      "metadata": {
        "colab": {
          "base_uri": "https://localhost:8080/"
        },
        "id": "6LPJSK0gyIYA",
        "outputId": "8b0400a3-c950-4b84-f401-4bed5c048313"
      },
      "outputs": [
        {
          "output_type": "stream",
          "name": "stdout",
          "text": [
            "✅ Installed dependencies\n"
          ]
        }
      ],
      "source": [
        "# Cell A: Install deps\n",
        "!pip install -q chromadb sentence-transformers transformers gradio bcrypt pypdf\n",
        "print(\"✅ Installed dependencies\")\n"
      ]
    },
    {
      "cell_type": "code",
      "execution_count": 3,
      "metadata": {
        "colab": {
          "base_uri": "https://localhost:8080/"
        },
        "id": "d1t9ILLayME3",
        "outputId": "eee17606-c441-4dff-d6b7-498f2199c7d5"
      },
      "outputs": [
        {
          "output_type": "stream",
          "name": "stdout",
          "text": [
            "✅ Config ready\n"
          ]
        }
      ],
      "source": [
        "# Cell B: Imports & basic config\n",
        "import os, io, uuid, sqlite3, datetime, re\n",
        "import bcrypt\n",
        "import chromadb\n",
        "from chromadb.config import Settings\n",
        "from sentence_transformers import SentenceTransformer\n",
        "from transformers import pipeline\n",
        "import gradio as gr\n",
        "import pandas as pd\n",
        "\n",
        "# Paths\n",
        "DB_FILE = \"restaurant.db\"\n",
        "CHROMA_DIR = \"./chroma_store\"   # change to drive path if mounting Drive\n",
        "\n",
        "# Globals\n",
        "CURRENT_USER = None   # single-user session for demo\n",
        "print(\"✅ Config ready\")\n"
      ]
    },
    {
      "cell_type": "code",
      "execution_count": 4,
      "metadata": {
        "colab": {
          "base_uri": "https://localhost:8080/"
        },
        "id": "c8Mg1U9nysc-",
        "outputId": "e6c4effe-419b-4464-fc10-2aa5c55784ec"
      },
      "outputs": [
        {
          "output_type": "stream",
          "name": "stdout",
          "text": [
            "⚠️ Column might already exist: duplicate column name: role\n"
          ]
        }
      ],
      "source": [
        "import sqlite3\n",
        "conn = sqlite3.connect(\"restaurant.db\")\n",
        "cur = conn.cursor()\n",
        "\n",
        "# Add 'role' column if missing\n",
        "try:\n",
        "    cur.execute(\"ALTER TABLE users ADD COLUMN role TEXT DEFAULT 'customer'\")\n",
        "    conn.commit()\n",
        "    print(\"✅ Added 'role' column to users table\")\n",
        "except Exception as e:\n",
        "    print(\"⚠️ Column might already exist:\", e)\n"
      ]
    },
    {
      "cell_type": "code",
      "source": [
        "import sqlite3\n",
        "\n",
        "conn = sqlite3.connect(\"restaurant.db\")\n",
        "cur = conn.cursor()\n",
        "\n",
        "# Create users table with role column\n",
        "cur.execute(\"\"\"\n",
        "CREATE TABLE IF NOT EXISTS users (\n",
        "    id INTEGER PRIMARY KEY AUTOINCREMENT,\n",
        "    username TEXT UNIQUE,\n",
        "    password_hash TEXT,\n",
        "    role TEXT DEFAULT 'customer'\n",
        ")\n",
        "\"\"\")\n",
        "conn.commit()\n",
        "print(\"✅ Users table created successfully\")\n"
      ],
      "metadata": {
        "colab": {
          "base_uri": "https://localhost:8080/"
        },
        "id": "YVrqNQhm1HDb",
        "outputId": "2488777f-f779-447b-9b67-c77155df508f"
      },
      "execution_count": 5,
      "outputs": [
        {
          "output_type": "stream",
          "name": "stdout",
          "text": [
            "✅ Users table created successfully\n"
          ]
        }
      ]
    },
    {
      "cell_type": "code",
      "source": [
        "import bcrypt\n",
        "\n",
        "# Insert default admin if not exists\n",
        "cur.execute(\"SELECT COUNT(*) FROM users WHERE username=?\", (\"admin\",))\n",
        "if cur.fetchone()[0] == 0:\n",
        "    pw = bcrypt.hashpw(\"admin123\".encode(), bcrypt.gensalt())\n",
        "    cur.execute(\"INSERT INTO users (username, password_hash, role) VALUES (?, ?, ?)\",\n",
        "                (\"admin\", pw, \"admin\"))\n",
        "    conn.commit()\n",
        "    print(\"✅ Default admin created (username: admin, password: admin123)\")\n",
        "else:\n",
        "    print(\"ℹ️ Admin already exists\")\n",
        "\n",
        "conn.close()\n"
      ],
      "metadata": {
        "colab": {
          "base_uri": "https://localhost:8080/"
        },
        "id": "68lfC8ze1Mjr",
        "outputId": "b3d56166-ae15-425b-e577-8598010bfbd5"
      },
      "execution_count": 6,
      "outputs": [
        {
          "output_type": "stream",
          "name": "stdout",
          "text": [
            "ℹ️ Admin already exists\n"
          ]
        }
      ]
    },
    {
      "cell_type": "code",
      "source": [
        "import sqlite3, bcrypt\n",
        "\n",
        "# Connect (or reopen if previously closed)\n",
        "conn = sqlite3.connect(\"restaurant.db\")\n",
        "cur = conn.cursor()\n",
        "\n",
        "# Create users table\n",
        "cur.execute(\"\"\"\n",
        "CREATE TABLE IF NOT EXISTS users (\n",
        "    id INTEGER PRIMARY KEY AUTOINCREMENT,\n",
        "    username TEXT UNIQUE,\n",
        "    password_hash TEXT,\n",
        "    role TEXT DEFAULT 'customer'\n",
        ")\n",
        "\"\"\")\n",
        "\n",
        "# Insert default admin if not exists\n",
        "cur.execute(\"SELECT COUNT(*) FROM users WHERE username=?\", (\"admin\",))\n",
        "if cur.fetchone()[0] == 0:\n",
        "    pw = bcrypt.hashpw(\"admin123\".encode(), bcrypt.gensalt())\n",
        "    cur.execute(\"INSERT INTO users (username, password_hash, role) VALUES (?, ?, ?)\",\n",
        "                (\"admin\", pw, \"admin\"))\n",
        "    conn.commit()\n",
        "    print(\"✅ Default admin created (username: admin, password: admin123)\")\n",
        "else:\n",
        "    print(\"ℹ️ Admin already exists\")\n",
        "\n",
        "# Close connection after all operations\n",
        "conn.close()\n"
      ],
      "metadata": {
        "colab": {
          "base_uri": "https://localhost:8080/"
        },
        "id": "15l3SPKB1cpU",
        "outputId": "d8c37b66-9ebd-4a64-eb87-1374ad69e2f4"
      },
      "execution_count": 7,
      "outputs": [
        {
          "output_type": "stream",
          "name": "stdout",
          "text": [
            "ℹ️ Admin already exists\n"
          ]
        }
      ]
    },
    {
      "cell_type": "code",
      "execution_count": 8,
      "metadata": {
        "colab": {
          "base_uri": "https://localhost:8080/"
        },
        "id": "QxXnYZS3y3Vg",
        "outputId": "d9741c75-17fa-46c7-d44c-0d39c8637a7f"
      },
      "outputs": [
        {
          "output_type": "stream",
          "name": "stdout",
          "text": [
            "✅ Database initialized (tables ready)\n"
          ]
        }
      ],
      "source": [
        "# Cell D: Initialize SQLite DB and tables\n",
        "conn = sqlite3.connect(DB_FILE, check_same_thread=False)\n",
        "cur = conn.cursor()\n",
        "\n",
        "# Users table (with roles)\n",
        "cur.execute(\"\"\"\n",
        "CREATE TABLE IF NOT EXISTS users (\n",
        "    id INTEGER PRIMARY KEY AUTOINCREMENT,\n",
        "    username TEXT UNIQUE,\n",
        "    password_hash BLOB,\n",
        "    role TEXT DEFAULT 'customer'\n",
        ");\n",
        "\"\"\")\n",
        "\n",
        "# Operational tables\n",
        "cur.execute(\"\"\"\n",
        "CREATE TABLE IF NOT EXISTS orders (\n",
        "    id INTEGER PRIMARY KEY AUTOINCREMENT,\n",
        "    customer_name TEXT,\n",
        "    item_name TEXT,\n",
        "    quantity INTEGER,\n",
        "    status TEXT DEFAULT 'Pending',\n",
        "    created_at TEXT\n",
        ");\n",
        "\"\"\")\n",
        "\n",
        "cur.execute(\"\"\"\n",
        "CREATE TABLE IF NOT EXISTS reservations (\n",
        "    id INTEGER PRIMARY KEY AUTOINCREMENT,\n",
        "    customer_name TEXT,\n",
        "    table_number INTEGER,\n",
        "    dt TEXT,\n",
        "    status TEXT DEFAULT 'Booked',\n",
        "    created_at TEXT\n",
        ");\n",
        "\"\"\")\n",
        "\n",
        "cur.execute(\"\"\"\n",
        "CREATE TABLE IF NOT EXISTS inventory (\n",
        "    id INTEGER PRIMARY KEY AUTOINCREMENT,\n",
        "    item_name TEXT UNIQUE,\n",
        "    stock INTEGER DEFAULT 0\n",
        ");\n",
        "\"\"\")\n",
        "conn.commit()\n",
        "\n",
        "# Create demo admin if no users exist\n",
        "cur.execute(\"SELECT COUNT(1) FROM users\")\n",
        "if cur.fetchone()[0] == 0:\n",
        "    pw = bcrypt.hashpw(\"admin123\".encode(), bcrypt.gensalt())\n",
        "    cur.execute(\"INSERT INTO users (username, password_hash, role) VALUES (?, ?, ?)\",\n",
        "                (\"admin\", pw, \"admin\"))\n",
        "    conn.commit()\n",
        "    print(\"✅ Default admin created: username=admin password=admin123  — change it!\")\n",
        "else:\n",
        "    print(\"✅ Database initialized (tables ready)\")\n"
      ]
    },
    {
      "cell_type": "code",
      "execution_count": 9,
      "metadata": {
        "id": "x_H2j1fIz6l-"
      },
      "outputs": [],
      "source": [
        "# Cell E: Authentication helpers\n",
        "def register_user(username, password, role=\"customer\"):\n",
        "    cur.execute(\"SELECT 1 FROM users WHERE username=?\", (username,))\n",
        "    if cur.fetchone():\n",
        "        return False, \"Username already exists.\"\n",
        "    pw_hash = bcrypt.hashpw(password.encode(), bcrypt.gensalt())\n",
        "    cur.execute(\"INSERT INTO users (username, password_hash, role) VALUES (?, ?, ?)\",\n",
        "                (username, pw_hash, role))\n",
        "    conn.commit()\n",
        "    return True, f\"User '{username}' created with role '{role}'.\"\n",
        "\n",
        "def login_user(username, password):\n",
        "    global CURRENT_USER\n",
        "    cur.execute(\"SELECT id, password_hash, role FROM users WHERE username=?\", (username,))\n",
        "    r = cur.fetchone()\n",
        "    if not r:\n",
        "        return False, \"User not found.\"\n",
        "    uid, pw_hash, role = r\n",
        "    if bcrypt.checkpw(password.encode(), pw_hash):\n",
        "        CURRENT_USER = {\"id\": uid, \"username\": username, \"role\": role}\n",
        "        return True, f\"Logged in as {username} (role={role})\"\n",
        "    return False, \"Incorrect password.\"\n",
        "\n",
        "def logout_user():\n",
        "    global CURRENT_USER\n",
        "    CURRENT_USER = None\n",
        "    return \"Logged out.\"\n"
      ]
    },
    {
      "cell_type": "code",
      "execution_count": 10,
      "metadata": {
        "colab": {
          "base_uri": "https://localhost:8080/"
        },
        "id": "Ep0u7Y_00CEV",
        "outputId": "2e42f4dc-8581-4e66-8d99-8cfa345852ae"
      },
      "outputs": [
        {
          "output_type": "stream",
          "name": "stderr",
          "text": [
            "/tmp/ipython-input-795355989.py:12: DeprecationWarning: datetime.datetime.utcnow() is deprecated and scheduled for removal in a future version. Use timezone-aware objects to represent datetimes in UTC: datetime.datetime.now(datetime.UTC).\n",
            "  collection = client.create_collection(name=COLL_NAME, metadata={\"created\": str(datetime.datetime.utcnow())})\n",
            "/usr/local/lib/python3.12/dist-packages/huggingface_hub/utils/_auth.py:104: UserWarning: \n",
            "Error while fetching `HF_TOKEN` secret value from your vault: 'Requesting secret HF_TOKEN timed out. Secrets can only be fetched when running from the Colab UI.'.\n",
            "You are not authenticated with the Hugging Face Hub in this notebook.\n",
            "If the error persists, please let us know by opening an issue on GitHub (https://github.com/huggingface/huggingface_hub/issues/new).\n",
            "  warnings.warn(\n"
          ]
        },
        {
          "output_type": "stream",
          "name": "stdout",
          "text": [
            "✅ Chroma collection ready and embeddings loaded\n"
          ]
        }
      ],
      "source": [
        "# Cell F: Chroma client and embedding model\n",
        "# Use persistent Chroma if available (duckdb+parquet) or default client\n",
        "try:\n",
        "    client = chromadb.Client(Settings(chroma_db_impl=\"duckdb+parquet\", persist_directory=CHROMA_DIR))\n",
        "except Exception:\n",
        "    client = chromadb.Client()\n",
        "# create or get collection\n",
        "COLL_NAME = \"restaurant_knowledge\"\n",
        "try:\n",
        "    collection = client.get_collection(COLL_NAME)\n",
        "except Exception:\n",
        "    collection = client.create_collection(name=COLL_NAME, metadata={\"created\": str(datetime.datetime.utcnow())})\n",
        "\n",
        "# Embedding model\n",
        "embed_model = SentenceTransformer(\"all-MiniLM-L6-v2\")\n",
        "print(\"✅ Chroma collection ready and embeddings loaded\")\n"
      ]
    },
    {
      "cell_type": "code",
      "execution_count": 11,
      "metadata": {
        "colab": {
          "base_uri": "https://localhost:8080/"
        },
        "id": "y20lwPUW0HIw",
        "outputId": "0c6a88b2-0d89-460e-96a7-806d2b7238ea"
      },
      "outputs": [
        {
          "output_type": "stream",
          "name": "stdout",
          "text": [
            "✅ Ingested 6 seed docs into RAG KB\n"
          ]
        }
      ],
      "source": [
        "# Cell G: Seed KB with example docs (replace with your own)\n",
        "seed_docs = [\n",
        "    \"Margherita Pizza: Tomato, Mozzarella, Basil. Allergens: Dairy.\",\n",
        "    \"Chicken Biryani: Rice, Chicken, spices. Not vegetarian.\",\n",
        "    \"Caesar Salad: Lettuce, Parmesan, Croutons. Allergens: Dairy, Gluten.\",\n",
        "    \"Masala Chai: Tea, Milk, Spices. Allergens: Dairy.\",\n",
        "    \"Hours: We are open daily from 12:00 to 23:30.\",\n",
        "    \"Refund policy: Contact within 24 hours for order issues.\"\n",
        "]\n",
        "metas = [{\"source\": f\"seed_{i}\"} for i in range(len(seed_docs))]\n",
        "\n",
        "# chunking not necessary for very small docs — for bigger files chunk before ingest\n",
        "embs = embed_model.encode(seed_docs, convert_to_numpy=True).tolist()\n",
        "ids = [str(uuid.uuid4()) for _ in seed_docs]\n",
        "collection.add(documents=seed_docs, metadatas=metas, ids=ids, embeddings=embs)\n",
        "print(f\"✅ Ingested {len(seed_docs)} seed docs into RAG KB\")\n"
      ]
    },
    {
      "cell_type": "code",
      "execution_count": 12,
      "metadata": {
        "colab": {
          "base_uri": "https://localhost:8080/"
        },
        "id": "4AkDmlo40NLN",
        "outputId": "91d0bb5f-affe-4807-ca22-2adc51b31720"
      },
      "outputs": [
        {
          "output_type": "stream",
          "name": "stderr",
          "text": [
            "Device set to use cpu\n"
          ]
        }
      ],
      "source": [
        "# Cell H: Initialize HF model (text2text)\n",
        "# flan-t5-large is a good free tradeoff; use GPU if available (device=0).\n",
        "# On CPU set device=-1. If you have Colab GPU, set device=0 and enable GPU runtime.\n",
        "llm = pipeline(\"text2text-generation\", model=\"google/flan-t5-large\", device=-1)\n",
        "\n",
        "SYSTEM_INSTR = (\"You are a concise Restaurant Assistant. Use only the provided context to answer menu, \"\n",
        "                \"allergen and policy questions. If the context doesn't contain the answer, say you don't know.\")\n",
        "\n",
        "def retrieve_docs(query, top_k=3):\n",
        "    q_emb = embed_model.encode([query], convert_to_numpy=True).tolist()\n",
        "    res = collection.query(query_embeddings=q_emb, n_results=top_k, include=[\"documents\",\"metadatas\",\"distances\",\"ids\"])\n",
        "    docs = res[\"documents\"][0] if \"documents\" in res and res[\"documents\"] else []\n",
        "    metas = res[\"metadatas\"][0] if \"metadatas\" in res and res[\"metadatas\"] else []\n",
        "    return docs, metas\n",
        "\n",
        "def rag_answer(query, top_k=3):\n",
        "    docs, metas = retrieve_docs(query, top_k=top_k)\n",
        "    if not docs:\n",
        "        return \"I don't have relevant documents yet. Please ingest your menu or docs.\"\n",
        "    context = \"\\n\\n\".join([f\"[{m.get('source','unknown')}]\\n{d}\" for d,m in zip(docs, metas)])\n",
        "    prompt = f\"{SYSTEM_INSTR}\\n\\nCONTEXT:\\n{context}\\n\\nQUESTION: {query}\\n\\nAnswer concisely:\"\n",
        "    out = llm(prompt, max_length=200, do_sample=False)[0]['generated_text']\n",
        "    srcs = \", \".join(sorted({m.get(\"source\",\"unknown\") for m in metas}))\n",
        "    return out + (f\"\\n\\nSources: {srcs}\" if srcs else \"\")\n"
      ]
    },
    {
      "cell_type": "code",
      "execution_count": 13,
      "metadata": {
        "id": "U4opuD0v0Sor"
      },
      "outputs": [],
      "source": [
        "# Cell I: operational functions\n",
        "def add_order(customer_name, item_name, quantity):\n",
        "    now = datetime.datetime.now().isoformat(sep=\" \", timespec=\"seconds\")\n",
        "    cur.execute(\"INSERT INTO orders (customer_name, item_name, quantity, created_at) VALUES (?, ?, ?, ?)\",\n",
        "                (customer_name, item_name, int(quantity), now))\n",
        "    conn.commit()\n",
        "    return f\"Order created: {customer_name} — {quantity}x {item_name}\"\n",
        "\n",
        "def list_orders(limit=50):\n",
        "    return cur.execute(\"SELECT id, customer_name, item_name, quantity, status, created_at FROM orders ORDER BY id DESC LIMIT ?\",\n",
        "                       (limit,)).fetchall()\n",
        "\n",
        "def update_order_status(order_id, new_status):\n",
        "    cur.execute(\"UPDATE orders SET status=? WHERE id=?\", (new_status, int(order_id)))\n",
        "    conn.commit()\n",
        "    return f\"Order {order_id} status set to {new_status}\"\n",
        "\n",
        "def add_reservation(customer_name, table_number, dt_str):\n",
        "    now = datetime.datetime.now().isoformat(sep=\" \", timespec=\"seconds\")\n",
        "    cur.execute(\"INSERT INTO reservations (customer_name, table_number, dt, created_at) VALUES (?, ?, ?, ?)\",\n",
        "                (customer_name, int(table_number), dt_str, now))\n",
        "    conn.commit()\n",
        "    return f\"Reservation confirmed for {customer_name} at table {table_number} on {dt_str}\"\n",
        "\n",
        "def list_reservations(limit=50):\n",
        "    return cur.execute(\"SELECT id, customer_name, table_number, dt, status, created_at FROM reservations ORDER BY id DESC LIMIT ?\",\n",
        "                       (limit,)).fetchall()\n",
        "\n",
        "def upsert_inventory(item_name, qty):\n",
        "    cur.execute(\"SELECT id FROM inventory WHERE item_name=?\", (item_name,))\n",
        "    if cur.fetchone():\n",
        "        cur.execute(\"UPDATE inventory SET stock=? WHERE item_name=?\", (int(qty), item_name))\n",
        "    else:\n",
        "        cur.execute(\"INSERT INTO inventory (item_name, stock) VALUES (?, ?)\", (item_name, int(qty)))\n",
        "    conn.commit()\n",
        "    return f\"Inventory set: {item_name} -> {qty}\"\n",
        "\n",
        "def get_inventory(item_name=None):\n",
        "    if item_name:\n",
        "        return cur.execute(\"SELECT item_name, stock FROM inventory WHERE item_name=?\", (item_name,)).fetchone()\n",
        "    return cur.execute(\"SELECT item_name, stock FROM inventory ORDER BY item_name\").fetchall()\n"
      ]
    },
    {
      "cell_type": "code",
      "execution_count": 14,
      "metadata": {
        "id": "FxPA2iW80Xpy"
      },
      "outputs": [],
      "source": [
        "# Cell J: minimal NLU-like router for commands\n",
        "def db_intent_handler(message):\n",
        "    m = message.lower()\n",
        "    if \"orders\" in m or \"order list\" in m:\n",
        "        rows = list_orders()\n",
        "        if not rows:\n",
        "            return \"No orders yet.\"\n",
        "        return \"\\n\".join([f\"#{r[0]} | {r[1]} — {r[3]}x {r[2]} (Status: {r[4]})\" for r in rows])\n",
        "    if \"reservations\" in m or \"bookings\" in m:\n",
        "        rows = list_reservations()\n",
        "        if not rows:\n",
        "            return \"No reservations yet.\"\n",
        "        return \"\\n\".join([f\"#{r[0]} | {r[1]} — Table {r[2]} at {r[3]} (Status: {r[4]})\" for r in rows])\n",
        "    if \"inventory\" in m or \"stock\" in m:\n",
        "        mm = re.search(r\"(?:stock of|inventory of|inventory|stock)\\s*(?:for\\s*)?([\\w\\s]+)?\", m)\n",
        "        if mm and mm.group(1) and mm.group(1).strip():\n",
        "            item = mm.group(1).strip().title()\n",
        "            row = get_inventory(item)\n",
        "            return f\"{row[0]}: {row[1]}\" if row else f\"No inventory item named '{item}'.\"\n",
        "        rows = get_inventory()\n",
        "        return \"\\n\".join([f\"{r[0]}: {r[1]}\" for r in rows]) if rows else \"Inventory empty.\"\n",
        "    return None\n",
        "\n",
        "def command_router(message):\n",
        "    msg = message.strip()\n",
        "    # order <item> <qty>  OR  order <customer> <item> <qty>\n",
        "    if msg.lower().startswith(\"order \"):\n",
        "        parts = msg.split()\n",
        "        if len(parts) == 3:\n",
        "            item, qty = parts[1], parts[2]\n",
        "            customer = CURRENT_USER['username'] if CURRENT_USER else \"Guest\"\n",
        "            return add_order(customer, item, qty), True\n",
        "        elif len(parts) >= 4:\n",
        "            customer, item, qty = parts[1], parts[2], parts[3]\n",
        "            return add_order(customer, item, qty), True\n",
        "        return (\"Format: order <item> <qty>  OR  order <customer> <item> <qty>\", True)\n",
        "\n",
        "    # reserve <name> <table> <datetime>\n",
        "    if msg.lower().startswith(\"reserve \"):\n",
        "        parts = msg.split()\n",
        "        if len(parts) >= 4:\n",
        "            name = parts[1]\n",
        "            try:\n",
        "                table = int(parts[2])\n",
        "            except:\n",
        "                return (\"Table number must be integer.\", True)\n",
        "            dt = \" \".join(parts[3:])\n",
        "            return add_reservation(name, table, dt), True\n",
        "        return (\"Format: reserve <name> <table> <YYYY-MM-DD HH:MM>\", True)\n",
        "\n",
        "    # update inventory <item> <qty>  (admin only)\n",
        "    if msg.lower().startswith(\"update inventory \"):\n",
        "        if not CURRENT_USER or CURRENT_USER.get(\"role\") != \"admin\":\n",
        "            return (\"Only admins can update inventory.\", True)\n",
        "        parts = msg.split()\n",
        "        if len(parts) >= 4:\n",
        "            item = parts[2].title()\n",
        "            try:\n",
        "                qty = int(parts[3])\n",
        "            except:\n",
        "                return (\"Quantity must be integer.\", True)\n",
        "            return upsert_inventory(item, qty), True\n",
        "        return (\"Format: update inventory <item> <qty>\", True)\n",
        "\n",
        "    # set order <id> <Status>\n",
        "    if msg.lower().startswith(\"set order \"):\n",
        "        if not CURRENT_USER or CURRENT_USER.get(\"role\") not in (\"admin\",\"waiter\"):\n",
        "            return (\"Only admin/waiter can update order status.\", True)\n",
        "        parts = msg.split()\n",
        "        if len(parts) >= 4:\n",
        "            oid, status = parts[2], \" \".join(parts[3:])\n",
        "            return update_order_status(oid, status), True\n",
        "        return (\"Format: set order <id> <new_status>\", True)\n",
        "\n",
        "    return (None, False)\n"
      ]
    },
    {
      "cell_type": "code",
      "execution_count": 15,
      "metadata": {
        "id": "nlJcbhb60c2-"
      },
      "outputs": [],
      "source": [
        "# Cell K: ingestion helper (handles .txt, .md, .csv, .pdf)\n",
        "from pypdf import PdfReader\n",
        "\n",
        "def chunk_text(text, chunk_size=800, overlap=150):\n",
        "    if len(text) <= chunk_size:\n",
        "        return [text]\n",
        "    chunks = []\n",
        "    start = 0\n",
        "    while start < len(text):\n",
        "        end = start + chunk_size\n",
        "        chunks.append(text[start:end])\n",
        "        start = end - overlap\n",
        "    return chunks\n",
        "\n",
        "def ingest_uploaded_files(file_objs):\n",
        "    all_texts = []\n",
        "    all_meta = []\n",
        "    for f in file_objs:\n",
        "        name = f.name\n",
        "        raw = f.read()\n",
        "        try:\n",
        "            if name.lower().endswith(\".pdf\"):\n",
        "                reader = PdfReader(io.BytesIO(raw))\n",
        "                text = \"\\n\\n\".join([p.extract_text() or \"\" for p in reader.pages])\n",
        "            else:\n",
        "                text = raw.decode(\"utf-8\", errors=\"ignore\")\n",
        "        except Exception:\n",
        "            text = raw.decode(\"utf-8\", errors=\"ignore\") if isinstance(raw, (bytes,bytearray)) else str(raw)\n",
        "        chunks = chunk_text(text, 800, 150)\n",
        "        for c in chunks:\n",
        "            all_texts.append(c)\n",
        "            all_meta.append({\"source\": name})\n",
        "    if not all_texts:\n",
        "        return \"No text extracted.\"\n",
        "    embs = embed_model.encode(all_texts, convert_to_numpy=True).tolist()\n",
        "    ids = [str(uuid.uuid4()) for _ in all_texts]\n",
        "    collection.add(documents=all_texts, metadatas=all_meta, ids=ids, embeddings=embs)\n",
        "    return f\"Ingested {len(all_texts)} chunks from {len(file_objs)} file(s).\"\n"
      ]
    },
    {
      "cell_type": "code",
      "execution_count": null,
      "metadata": {
        "colab": {
          "base_uri": "https://localhost:8080/",
          "height": 646
        },
        "id": "Mc6akL-x0mcf",
        "outputId": "18ad7f7b-a1fc-43fb-836e-ea1eea57786b"
      },
      "outputs": [
        {
          "output_type": "stream",
          "name": "stderr",
          "text": [
            "/tmp/ipython-input-2153749378.py:68: UserWarning: You have not specified a value for the `type` parameter. Defaulting to the 'tuples' format for chatbot messages, but this is deprecated and will be removed in a future version of Gradio. Please set type='messages' instead, which uses openai-style dictionaries with 'role' and 'content' keys.\n",
            "  chatbot = gr.Chatbot()\n"
          ]
        },
        {
          "output_type": "stream",
          "name": "stdout",
          "text": [
            "Colab notebook detected. This cell will run indefinitely so that you can see errors and logs. To turn off, set debug=False in launch().\n",
            "* Running on public URL: https://38ad730a680afdb50d.gradio.live\n",
            "\n",
            "This share link expires in 1 week. For free permanent hosting and GPU upgrades, run `gradio deploy` from the terminal in the working directory to deploy to Hugging Face Spaces (https://huggingface.co/spaces)\n"
          ]
        },
        {
          "output_type": "display_data",
          "data": {
            "text/plain": [
              "<IPython.core.display.HTML object>"
            ],
            "text/html": [
              "<div><iframe src=\"https://38ad730a680afdb50d.gradio.live\" width=\"100%\" height=\"500\" allow=\"autoplay; camera; microphone; clipboard-read; clipboard-write;\" frameborder=\"0\" allowfullscreen></iframe></div>"
            ]
          },
          "metadata": {}
        }
      ],
      "source": [
        "# Cell L: Gradio UI (run at the end)\n",
        "def login_ui(username, password):\n",
        "    ok, msg = login_user(username, password)\n",
        "    return msg\n",
        "\n",
        "def register_ui(username, password, role):\n",
        "    ok, msg = register_user(username, password, role)\n",
        "    return msg\n",
        "\n",
        "def chat_ui(history, message):\n",
        "    # history: list of [user, assistant] pairs\n",
        "    if not CURRENT_USER:\n",
        "        return history + [[message, \"⚠️ Please login first (Login tab).\"]], \"\"\n",
        "    # DB-intent\n",
        "    db_res = db_intent_handler(message)\n",
        "    if db_res:\n",
        "        return history + [[message, db_res]], \"\"\n",
        "    # command router\n",
        "    resp, handled = command_router(message)\n",
        "    if handled:\n",
        "        return history + [[message, resp]], \"\"\n",
        "    # fallback → RAG\n",
        "    try:\n",
        "        ans = rag_answer(message)\n",
        "    except Exception as e:\n",
        "        ans = f\"[RAG error] {e}\"\n",
        "    return history + [[message, ans]], \"\"\n",
        "\n",
        "def view_orders_ui():\n",
        "    rows = list_orders()\n",
        "    if not rows:\n",
        "        return \"No orders.\"\n",
        "    df = pd.DataFrame(rows, columns=[\"id\",\"customer\",\"item\",\"qty\",\"status\",\"created_at\"])\n",
        "    return df.to_markdown(index=False)\n",
        "\n",
        "def view_reservations_ui():\n",
        "    rows = list_reservations()\n",
        "    if not rows:\n",
        "        return \"No reservations.\"\n",
        "    df = pd.DataFrame(rows, columns=[\"id\",\"customer\",\"table\",\"dt\",\"status\",\"created_at\"])\n",
        "    return df.to_markdown(index=False)\n",
        "\n",
        "def view_inventory_ui():\n",
        "    rows = get_inventory()\n",
        "    if not rows:\n",
        "        return \"No inventory.\"\n",
        "    df = pd.DataFrame(rows, columns=[\"item\",\"stock\"])\n",
        "    return df.to_markdown(index=False)\n",
        "\n",
        "with gr.Blocks(title=\"AI Restaurant (HuggingFace RAG + Auth + DB)\") as demo:\n",
        "    gr.Markdown(\"## 🍽️ AI-Powered Restaurant System — HuggingFace RAG + Secure Login\")\n",
        "    with gr.Tab(\"🔑 Login / Register\"):\n",
        "        with gr.Row():\n",
        "            u = gr.Textbox(label=\"Username\")\n",
        "            p = gr.Textbox(label=\"Password\", type=\"password\")\n",
        "            login_btn = gr.Button(\"Login\")\n",
        "            login_out = gr.Textbox(label=\"Status\")\n",
        "            login_btn.click(login_ui, [u, p], login_out)\n",
        "        gr.Markdown(\"---\")\n",
        "        with gr.Row():\n",
        "            ru = gr.Textbox(label=\"New username\")\n",
        "            rp = gr.Textbox(label=\"New password\", type=\"password\")\n",
        "            rrole = gr.Dropdown([\"admin\",\"waiter\",\"customer\"], value=\"customer\", label=\"Role\")\n",
        "            reg_btn = gr.Button(\"Register\")\n",
        "            reg_out = gr.Textbox(label=\"Register status\")\n",
        "            reg_btn.click(register_ui, [ru, rp, rrole], reg_out)\n",
        "    with gr.Tab(\"💬 Assistant Chat\"):\n",
        "        chatbot = gr.Chatbot()\n",
        "        msg = gr.Textbox(placeholder=\"Ask or command: e.g., 'Which dishes are vegetarian?', 'order pizza 2'\", lines=1)\n",
        "        send = gr.Button(\"Send\")\n",
        "        send.click(chat_ui, [chatbot, msg], [chatbot, msg])\n",
        "        msg.submit(chat_ui, [chatbot, msg], [chatbot, msg])\n",
        "    with gr.Tab(\"📋 Dashboard\"):\n",
        "        with gr.Row():\n",
        "            ord_btn = gr.Button(\"View Orders\")\n",
        "            ord_out = gr.Markdown()\n",
        "            ord_btn.click(lambda: view_orders_ui(), None, ord_out)\n",
        "            res_btn = gr.Button(\"View Reservations\")\n",
        "            res_out = gr.Markdown()\n",
        "            res_btn.click(lambda: view_reservations_ui(), None, res_out)\n",
        "            inv_btn = gr.Button(\"View Inventory\")\n",
        "            inv_out = gr.Markdown()\n",
        "            inv_btn.click(lambda: view_inventory_ui(), None, inv_out)\n",
        "        gr.Markdown(\"### Admin: Set Inventory\")\n",
        "        inv_item = gr.Textbox(label=\"Item\")\n",
        "        inv_qty = gr.Number(label=\"Stock\")\n",
        "        inv_up = gr.Button(\"Set Inventory\")\n",
        "        inv_up_out = gr.Textbox()\n",
        "        def inv_up_ui(item, qty):\n",
        "            if not CURRENT_USER or CURRENT_USER.get(\"role\") != \"admin\":\n",
        "                return \"Only admin can update inventory.\"\n",
        "            return upsert_inventory(item.title(), int(qty))\n",
        "        inv_up.click(inv_up_ui, [inv_item, inv_qty], inv_up_out)\n",
        "    with gr.Tab(\"📥 Ingest Docs\"):\n",
        "        uploader = gr.File(file_count=\"multiple\", file_types=[\".txt\",\".md\",\".csv\",\".pdf\"])\n",
        "        ingest_btn = gr.Button(\"Ingest\")\n",
        "        ingest_out = gr.Textbox()\n",
        "        ingest_btn.click(ingest_uploaded_files, uploader, ingest_out)\n",
        "\n",
        "# Launch the app (remove share=True in private use)\n",
        "demo.launch(debug=True, share=True)\n"
      ]
    }
  ],
  "metadata": {
    "colab": {
      "provenance": [],
      "mount_file_id": "1oHBVr1XUkFh5goz52jR_f_6Jv-0ApN7E",
      "authorship_tag": "ABX9TyOhdHHPyewZb0oXUdRW/Q7k",
      "include_colab_link": true
    },
    "kernelspec": {
      "display_name": "Python 3",
      "name": "python3"
    },
    "language_info": {
      "name": "python"
    }
  },
  "nbformat": 4,
  "nbformat_minor": 0
}